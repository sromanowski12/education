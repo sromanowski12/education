{
 "cells": [
  {
   "attachments": {},
   "cell_type": "markdown",
   "metadata": {
    "tags": [
     "Test",
     "New"
    ]
   },
   "source": [
    "## Education\n",
    "\n",
    "### Courses\n"
   ]
  }
 ],
 "metadata": {
  "kernelspec": {
   "display_name": "Python 3",
   "language": "python",
   "name": "python3"
  },
  "language_info": {
   "name": "python",
   "version": "3.10.10"
  },
  "orig_nbformat": 4,
  "vscode": {
   "interpreter": {
    "hash": "8498a689fc8f0a535610c9d357011fd1df038141387c9013ff5f3faeb4bdfca7"
   }
  }
 },
 "nbformat": 4,
 "nbformat_minor": 2
}
